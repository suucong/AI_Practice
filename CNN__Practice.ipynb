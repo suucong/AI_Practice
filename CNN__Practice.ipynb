{
  "nbformat": 4,
  "nbformat_minor": 0,
  "metadata": {
    "colab": {
      "provenance": [],
      "gpuType": "T4",
      "authorship_tag": "ABX9TyMqjAdpKDAxdqHsOVqVer8k",
      "include_colab_link": true
    },
    "kernelspec": {
      "name": "python3",
      "display_name": "Python 3"
    },
    "language_info": {
      "name": "python"
    },
    "accelerator": "GPU"
  },
  "cells": [
    {
      "cell_type": "markdown",
      "metadata": {
        "id": "view-in-github",
        "colab_type": "text"
      },
      "source": [
        "<a href=\"https://colab.research.google.com/github/suucong/AI_Practice/blob/main/CNN__Practice.ipynb\" target=\"_parent\"><img src=\"https://colab.research.google.com/assets/colab-badge.svg\" alt=\"Open In Colab\"/></a>"
      ]
    },
    {
      "cell_type": "code",
      "execution_count": 5,
      "metadata": {
        "id": "UJ-q3dpgfMIK"
      },
      "outputs": [],
      "source": [
        "import torch\n",
        "import torch.nn as nn\n",
        "import torch.optim as optim\n",
        "import torch.nn.init as init\n",
        "\n",
        "import torchvision.datasets as dset\n",
        "\n",
        "import torchvision.transforms as transforms\n",
        "\n",
        "from torch.utils.data import DataLoader\n",
        "\n",
        "import numpy as np\n",
        "import matplotlib.pyplot as plt"
      ]
    },
    {
      "cell_type": "code",
      "source": [
        "# 하이퍼 파라미터 지정\n",
        "batch_size = 256\n",
        "learning_rate = 0.0102\n",
        "num_epoch = 10"
      ],
      "metadata": {
        "id": "Fx40nS2vf_RE"
      },
      "execution_count": 33,
      "outputs": []
    },
    {
      "cell_type": "code",
      "source": [
        "# 데이터 다운로드\n",
        "mnist_train = dset.MNIST(root=\"../\", train=True, transform=transforms.ToTensor(), target_transform=None, download=True)\n",
        "mnist_test = dset.MNIST(root=\"../\", train=False, transform=transforms.ToTensor(), target_transform=None, download=True)"
      ],
      "metadata": {
        "id": "pKVUsOJqgRKu"
      },
      "execution_count": 34,
      "outputs": []
    },
    {
      "cell_type": "code",
      "source": [
        "# 데이터셋 체크\n",
        "print(mnist_train.__getitem__(0)[0].size(), mnist_train.__len__())\n",
        "print(mnist_test.__getitem__(0)[0].size(), mnist_test.__len__())\n",
        "\n",
        "print(len(mnist_train), len(mnist_test))"
      ],
      "metadata": {
        "colab": {
          "base_uri": "https://localhost:8080/"
        },
        "id": "n2PyQWhlg8TQ",
        "outputId": "7b6bf11b-15f5-43b1-cba8-2b9d6115e0bf"
      },
      "execution_count": 35,
      "outputs": [
        {
          "output_type": "stream",
          "name": "stdout",
          "text": [
            "torch.Size([1, 28, 28]) 60000\n",
            "torch.Size([1, 28, 28]) 10000\n",
            "60000 10000\n"
          ]
        }
      ]
    },
    {
      "cell_type": "code",
      "source": [
        "# DataLoader 설정\n",
        "train_loader = DataLoader(mnist_train, batch_size=batch_size, shuffle=True, num_workers=2, drop_last=True)\n",
        "test_loader = DataLoader(mnist_test, batch_size=batch_size, shuffle=False, num_workers=2, drop_last=True)"
      ],
      "metadata": {
        "id": "OeK2csjDiBfS"
      },
      "execution_count": 36,
      "outputs": []
    },
    {
      "cell_type": "code",
      "source": [
        "# CNN 모델 구현\n",
        "class CNN(nn.Module):\n",
        "    def __init__(self):\n",
        "        super(CNN, self).__init__()\n",
        "        self.layer = nn.Sequential(\n",
        "            nn.Conv2d(in_channels=1, out_channels=16, kernel_size=5),\n",
        "            nn.ReLU(),\n",
        "            nn.Conv2d(in_channels=16, out_channels=32, kernel_size=5),\n",
        "            nn.ReLU(),\n",
        "            nn.MaxPool2d(kernel_size=2, stride=2),\n",
        "            nn.Conv2d(in_channels=32, out_channels=64, kernel_size=5),\n",
        "            nn.ReLU(),\n",
        "            nn.MaxPool2d(kernel_size=2, stride=2)\n",
        "        )\n",
        "        self.fc_layer = nn.Sequential(\n",
        "            nn.Linear(64*3*3, 100),\n",
        "            nn.ReLU(),\n",
        "            nn.Linear(100, 10)\n",
        "        )\n",
        "\n",
        "    def forward(self, x):\n",
        "        out = self.layer(x)\n",
        "        out = out.view(batch_size, -1)\n",
        "        out = self.fc_layer(out)\n",
        "        return out"
      ],
      "metadata": {
        "id": "RdAOWBdgiYcF"
      },
      "execution_count": 37,
      "outputs": []
    },
    {
      "cell_type": "code",
      "source": [
        "# 손실 함수, 최적화 함수\n",
        "\n",
        "# gpu가 사용 가능한 경우에는 device를 gpu로 설정하고 불가능하면 cpu로 설정\n",
        "device = torch.device(\"cuda:0\" if torch.cuda.is_available() else \"cpu\")\n",
        "print(device)\n",
        "\n",
        "# 모델을 지정한 장치로 올리기\n",
        "model = CNN().to(device)\n",
        "\n",
        "# 손실함수로는 크로스엔트로피\n",
        "loss_func = nn.CrossEntropyLoss()\n",
        "\n",
        "# 최적화 함수로는 Adam을 사용\n",
        "optimizer = torch.optim.Adam(model.parameters(), lr=learning_rate)"
      ],
      "metadata": {
        "colab": {
          "base_uri": "https://localhost:8080/"
        },
        "id": "ZAkfOW9kj0k-",
        "outputId": "f66929ce-a49b-4f39-d637-dc35fcf90502"
      },
      "execution_count": 38,
      "outputs": [
        {
          "output_type": "stream",
          "name": "stdout",
          "text": [
            "cuda:0\n"
          ]
        }
      ]
    },
    {
      "cell_type": "code",
      "source": [
        "loss_arr = []\n",
        "for i in range(num_epoch):\n",
        "  for j, [image, label] in enumerate(train_loader):\n",
        "    x = image. to(device)\n",
        "    y_= label. to(device)\n",
        "    optimizer.zero_grad()\n",
        "    output = model.forward(x)\n",
        "    loss = loss_func(output, y_)\n",
        "    loss. backward ()\n",
        "    optimizer.step()\n",
        "\n",
        "    if j % 1000 == 0:\n",
        "      print(loss)\n",
        "      loss_arr.append (loss.cpu().detach().numpy())"
      ],
      "metadata": {
        "colab": {
          "base_uri": "https://localhost:8080/"
        },
        "id": "vSVG1kwElVY5",
        "outputId": "c4d293fe-8a31-4c62-9567-7b845753bdad"
      },
      "execution_count": 39,
      "outputs": [
        {
          "output_type": "stream",
          "name": "stdout",
          "text": [
            "tensor(2.3028, device='cuda:0', grad_fn=<NllLossBackward0>)\n",
            "tensor(0.0449, device='cuda:0', grad_fn=<NllLossBackward0>)\n",
            "tensor(0.0384, device='cuda:0', grad_fn=<NllLossBackward0>)\n",
            "tensor(0.0232, device='cuda:0', grad_fn=<NllLossBackward0>)\n",
            "tensor(0.0149, device='cuda:0', grad_fn=<NllLossBackward0>)\n",
            "tensor(0.0302, device='cuda:0', grad_fn=<NllLossBackward0>)\n",
            "tensor(0.0524, device='cuda:0', grad_fn=<NllLossBackward0>)\n",
            "tensor(0.0163, device='cuda:0', grad_fn=<NllLossBackward0>)\n",
            "tensor(0.0195, device='cuda:0', grad_fn=<NllLossBackward0>)\n",
            "tensor(0.0528, device='cuda:0', grad_fn=<NllLossBackward0>)\n"
          ]
        }
      ]
    },
    {
      "cell_type": "code",
      "source": [
        "plt.plot(loss_arr)\n",
        "plt.show()"
      ],
      "metadata": {
        "colab": {
          "base_uri": "https://localhost:8080/",
          "height": 430
        },
        "id": "rCmIlQp2mCjX",
        "outputId": "74bdaea1-b775-4896-985d-99a9fdf5518c"
      },
      "execution_count": 40,
      "outputs": [
        {
          "output_type": "display_data",
          "data": {
            "text/plain": [
              "<Figure size 640x480 with 1 Axes>"
            ],
            "image/png": "[encoded data removed]"
          },
          "metadata": {}
        }
      ]
    },
    {
      "cell_type": "code",
      "source": [
        "# 테스트 데이터 정확도 측정\n",
        "# 맞은 개수, 전체 개수를 저장할 변수 지정\n",
        "correct = 0\n",
        "total = 0\n",
        "\n",
        "# 인퍼런스 모드를 위해 no_grad\n",
        "with torch.no_grad():\n",
        "  # 테스트 로더에서 이미지와 정답을 불러오기\n",
        "  for image, label in test_loader:\n",
        "\n",
        "    # 두 데이터 모두 장치에 올리기\n",
        "    x = image.to(device)\n",
        "    y_= label. to (device)\n",
        "\n",
        "    # 모델에 데이터를 넣고 결과값을 얻습니다.\n",
        "    output = model.forward(x)\n",
        "\n",
        "    # https://pytorch.org/docs/stable/torch.html?highLight=max#torch.max\n",
        "    # torch.max를 이용해 최대 값 및 최대값 인덱스를 뽑아냅니다.\n",
        "    # 여기서는 최대값은 필요없기 때문에 인덱스만 사용합니다.\n",
        "    _, output_index = torch.max(output, 1)\n",
        "\n",
        "    # 전체 개수는 라벨의 개수로 더해줍니다.\n",
        "    # 전체 개수를 알고 있음에도 이렇게 하는 이유는 batch_size, drop_last의 영향으로 몇몇 데이터가 잘릴수도 있기 때문입니다.\n",
        "    total += label.size(0)\n",
        "\n",
        "    # 모델의 결과의 최대값 인덱스와 라벨이 일치하는 개수를 correct에 더해줍니다.\n",
        "    correct += (output_index == y_).sum().float()\n",
        "\n",
        "  # 테스트 데이터 전체에 대해 위의 작업을 시행한 후 정확도를 구해줍니다.\n",
        "  print(\"Accuracy of Test Data: {}%\".format(100*correct/total))"
      ],
      "metadata": {
        "colab": {
          "base_uri": "https://localhost:8080/"
        },
        "id": "1r2PUnt4misp",
        "outputId": "b831e9c5-1117-4ac5-af38-8fcc10b4a877"
      },
      "execution_count": 41,
      "outputs": [
        {
          "output_type": "stream",
          "name": "stdout",
          "text": [
            "Accuracy of Test Data: 98.52764892578125%\n"
          ]
        }
      ]
    }
  ]
}